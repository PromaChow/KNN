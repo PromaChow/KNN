{
 "cells": [
  {
   "cell_type": "code",
   "execution_count": 1,
   "metadata": {},
   "outputs": [],
   "source": [
    "import os\n",
    "import cv2\n",
    "from imutils import paths\n",
    "import numpy as np\n",
    "import math\n",
    "from operator import itemgetter"
   ]
  },
  {
   "cell_type": "code",
   "execution_count": 2,
   "metadata": {},
   "outputs": [],
   "source": [
    "\n",
    "def getListOfFiles(dirName):\n",
    "    allFiles = os.listdir(dirName)\n",
    "    fileList = list()\n",
    "    for entry in allFiles :\n",
    "        fullPath = os.path.join(dirName, entry)\n",
    "        fileList.append(fullPath)\n",
    "    return fileList\n",
    "\n",
    "catTrainImagePaths = getListOfFiles(\"./dogvscat/train/0\") \n",
    "dogTrainImagePaths = getListOfFiles(\"./dogvscat/train/1\")\n",
    "catTestImgPaths = getListOfFiles(\"./dogvscat/test/0\") \n",
    "dogTestImgPaths = getListOfFiles(\"./dogvscat/test/1\") \n",
    "# print(catimagePaths[0])\n",
    "# img = cv2.imread(catimagePaths[0])\n",
    "# print(img.shape)\n"
   ]
  },
  {
   "cell_type": "code",
   "execution_count": 3,
   "metadata": {},
   "outputs": [],
   "source": [
    "\n",
    "def flattenImage(limit, imgPath):\n",
    "    flattenedData = []\n",
    "    for i in range(limit):\n",
    "        img = cv2.imread(imgPath[i])\n",
    "        img = cv2.resize(img,(32,32), interpolation = cv2.INTER_AREA)\n",
    "        data = np.array(img).flatten()\n",
    "        flattenedData.append(data)\n",
    "    return flattenedData\n",
    "    \n",
    "\n",
    "catTrain = flattenImage(200,catTrainImagePaths)\n",
    "dogTrain = flattenImage(200,dogTrainImagePaths)\n",
    "catTest = flattenImage(25,catTestImgPaths)\n",
    "dogTest = flattenImage(25,dogTestImgPaths)"
   ]
  },
  {
   "cell_type": "code",
   "execution_count": 4,
   "metadata": {},
   "outputs": [],
   "source": [
    "def find_dist(Test, Train, indicator):\n",
    "   dist = []\n",
    "   for i in range(len(Train)):\n",
    "      sum = 0.0\n",
    "      row = []\n",
    "      for j in range(len(Train[i])):\n",
    "         temp = (int(Test[j])-int(Train[i][j]))\n",
    "         sum+=(temp*temp)\n",
    "      row.append(indicator)\n",
    "      row.append(math.sqrt(sum))\n",
    "      dist.append(row)\n",
    "   \n",
    "   #print(len(dist))\n",
    "   return dist\n",
    "\n"
   ]
  },
  {
   "cell_type": "code",
   "execution_count": 5,
   "metadata": {},
   "outputs": [],
   "source": [
    "def predict(K, dist):\n",
    "    temp = []\n",
    "    temp.append(dist[0][0])\n",
    "    for i in range(1,K):\n",
    "        temp.append(dist[i][0])\n",
    "       # print(dist[i][0])\n",
    "    if temp.count(0)>temp.count(1): return 0\n",
    "    else : return 1\n",
    "    "
   ]
  },
  {
   "cell_type": "code",
   "execution_count": 7,
   "metadata": {},
   "outputs": [
    {
     "name": "stdout",
     "output_type": "stream",
     "text": [
      "58.0\n"
     ]
    }
   ],
   "source": [
    "def calculate_accuracy(K):\n",
    "    got = 1\n",
    "    acc = 0.0\n",
    "    for i in range(len(dogTest)):\n",
    "        dist = []\n",
    "        dist = find_dist(dogTest[i],catTrain,0)\n",
    "        dist+= find_dist(dogTest[i],dogTrain,1)\n",
    "       \n",
    "        dist.sort(key = lambda x:x[1])\n",
    "        expected = predict(10,dist)\n",
    "        if(expected == got) :\n",
    "            acc+=1\n",
    "    \n",
    "        # print(dist)\n",
    "        # print()\n",
    "    got = 0\n",
    "    for i in range(len(catTest)):\n",
    "        dist = []\n",
    "        dist = find_dist(catTest[i],catTrain,0)\n",
    "        dist+= find_dist(catTest[i],dogTrain,1)\n",
    "       \n",
    "        dist.sort(key = lambda x:x[1])\n",
    "        expected = predict(5,dist)\n",
    "        if(expected == got) :\n",
    "            acc+=1\n",
    "    \n",
    "        \n",
    "    print((acc*100)/(len(dogTest)+len(catTest)))\n",
    "    \n",
    "calculate_accuracy(5) \n"
   ]
  },
  {
   "cell_type": "code",
   "execution_count": null,
   "metadata": {},
   "outputs": [],
   "source": []
  }
 ],
 "metadata": {
  "interpreter": {
   "hash": "916dbcbb3f70747c44a77c7bcd40155683ae19c65e1c03b4aa3499c5328201f1"
  },
  "kernelspec": {
   "display_name": "Python 3.8.10 64-bit",
   "language": "python",
   "name": "python3"
  },
  "language_info": {
   "codemirror_mode": {
    "name": "ipython",
    "version": 3
   },
   "file_extension": ".py",
   "mimetype": "text/x-python",
   "name": "python",
   "nbconvert_exporter": "python",
   "pygments_lexer": "ipython3",
   "version": "3.8.10"
  },
  "orig_nbformat": 4
 },
 "nbformat": 4,
 "nbformat_minor": 2
}
